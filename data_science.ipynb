{
 "cells": [
  {
   "cell_type": "code",
   "execution_count": 28,
   "metadata": {},
   "outputs": [],
   "source": [
    "import pandas as pd\n",
    "import numpy as np\n",
    "import datetime\n",
    "from time import time\n",
    "from sklearn.model_selection import train_test_split\n",
    "from sklearn.ensemble import RandomForestClassifier\n",
    "from sklearn import metrics\n",
    "import matplotlib.pyplot as plt\n",
    "import seaborn as sns\n",
    "from sklearn.model_selection import RandomizedSearchCV\n",
    "from sklearn.linear_model import LogisticRegression\n",
    "import xgboost as xgb\n",
    "from scipy import stats"
   ]
  },
  {
   "cell_type": "markdown",
   "metadata": {},
   "source": [
    "## I. Import data"
   ]
  },
  {
   "cell_type": "code",
   "execution_count": 2,
   "metadata": {},
   "outputs": [
    {
     "data": {
      "text/html": [
       "<div>\n",
       "<style scoped>\n",
       "    .dataframe tbody tr th:only-of-type {\n",
       "        vertical-align: middle;\n",
       "    }\n",
       "\n",
       "    .dataframe tbody tr th {\n",
       "        vertical-align: top;\n",
       "    }\n",
       "\n",
       "    .dataframe thead th {\n",
       "        text-align: right;\n",
       "    }\n",
       "</style>\n",
       "<table border=\"1\" class=\"dataframe\">\n",
       "  <thead>\n",
       "    <tr style=\"text-align: right;\">\n",
       "      <th></th>\n",
       "      <th>lower_bound_ip_address</th>\n",
       "      <th>upper_bound_ip_address</th>\n",
       "      <th>country</th>\n",
       "    </tr>\n",
       "  </thead>\n",
       "  <tbody>\n",
       "    <tr>\n",
       "      <th>0</th>\n",
       "      <td>16777216</td>\n",
       "      <td>16777471</td>\n",
       "      <td>Australia</td>\n",
       "    </tr>\n",
       "    <tr>\n",
       "      <th>1</th>\n",
       "      <td>16777472</td>\n",
       "      <td>16777727</td>\n",
       "      <td>China</td>\n",
       "    </tr>\n",
       "    <tr>\n",
       "      <th>2</th>\n",
       "      <td>16777728</td>\n",
       "      <td>16778239</td>\n",
       "      <td>China</td>\n",
       "    </tr>\n",
       "    <tr>\n",
       "      <th>3</th>\n",
       "      <td>16778240</td>\n",
       "      <td>16779263</td>\n",
       "      <td>Australia</td>\n",
       "    </tr>\n",
       "    <tr>\n",
       "      <th>4</th>\n",
       "      <td>16779264</td>\n",
       "      <td>16781311</td>\n",
       "      <td>China</td>\n",
       "    </tr>\n",
       "  </tbody>\n",
       "</table>\n",
       "</div>"
      ],
      "text/plain": [
       "   lower_bound_ip_address  upper_bound_ip_address    country\n",
       "0                16777216                16777471  Australia\n",
       "1                16777472                16777727      China\n",
       "2                16777728                16778239      China\n",
       "3                16778240                16779263  Australia\n",
       "4                16779264                16781311      China"
      ]
     },
     "execution_count": 2,
     "metadata": {},
     "output_type": "execute_result"
    }
   ],
   "source": [
    "IpAddress_to_Country=pd.read_excel(\"./Candidate_tech_evaluation_candidate_copy_datascience_IpAddress_to_Country.xlsx\")\n",
    "IpAddress_to_Country.head()"
   ]
  },
  {
   "cell_type": "code",
   "execution_count": 3,
   "metadata": {},
   "outputs": [
    {
     "data": {
      "text/html": [
       "<div>\n",
       "<style scoped>\n",
       "    .dataframe tbody tr th:only-of-type {\n",
       "        vertical-align: middle;\n",
       "    }\n",
       "\n",
       "    .dataframe tbody tr th {\n",
       "        vertical-align: top;\n",
       "    }\n",
       "\n",
       "    .dataframe thead th {\n",
       "        text-align: right;\n",
       "    }\n",
       "</style>\n",
       "<table border=\"1\" class=\"dataframe\">\n",
       "  <thead>\n",
       "    <tr style=\"text-align: right;\">\n",
       "      <th></th>\n",
       "      <th>Unnamed: 0</th>\n",
       "      <th>signup_time</th>\n",
       "      <th>purchase_time</th>\n",
       "      <th>purchase_value</th>\n",
       "      <th>device_id</th>\n",
       "      <th>source</th>\n",
       "      <th>browser</th>\n",
       "      <th>sex</th>\n",
       "      <th>age</th>\n",
       "      <th>ip_address</th>\n",
       "      <th>class</th>\n",
       "    </tr>\n",
       "    <tr>\n",
       "      <th>user_id</th>\n",
       "      <th></th>\n",
       "      <th></th>\n",
       "      <th></th>\n",
       "      <th></th>\n",
       "      <th></th>\n",
       "      <th></th>\n",
       "      <th></th>\n",
       "      <th></th>\n",
       "      <th></th>\n",
       "      <th></th>\n",
       "      <th></th>\n",
       "    </tr>\n",
       "  </thead>\n",
       "  <tbody>\n",
       "    <tr>\n",
       "      <th>285108</th>\n",
       "      <td>149671</td>\n",
       "      <td>7/15/2015 4:36</td>\n",
       "      <td>9/10/2015 14:17</td>\n",
       "      <td>31</td>\n",
       "      <td>HZAKVUFTDOSFD</td>\n",
       "      <td>Direct</td>\n",
       "      <td>Chrome</td>\n",
       "      <td>M</td>\n",
       "      <td>49</td>\n",
       "      <td>2.818400e+09</td>\n",
       "      <td>0</td>\n",
       "    </tr>\n",
       "    <tr>\n",
       "      <th>131009</th>\n",
       "      <td>15611</td>\n",
       "      <td>1/24/2015 12:29</td>\n",
       "      <td>4/13/2015 4:53</td>\n",
       "      <td>31</td>\n",
       "      <td>XGQAJSOUJIZCC</td>\n",
       "      <td>SEO</td>\n",
       "      <td>IE</td>\n",
       "      <td>F</td>\n",
       "      <td>21</td>\n",
       "      <td>3.251268e+09</td>\n",
       "      <td>0</td>\n",
       "    </tr>\n",
       "    <tr>\n",
       "      <th>328855</th>\n",
       "      <td>73178</td>\n",
       "      <td>3/11/2015 0:54</td>\n",
       "      <td>4/5/2015 12:23</td>\n",
       "      <td>16</td>\n",
       "      <td>VCCTAYDCWKZIY</td>\n",
       "      <td>Direct</td>\n",
       "      <td>IE</td>\n",
       "      <td>M</td>\n",
       "      <td>26</td>\n",
       "      <td>2.727760e+09</td>\n",
       "      <td>0</td>\n",
       "    </tr>\n",
       "    <tr>\n",
       "      <th>229053</th>\n",
       "      <td>84546</td>\n",
       "      <td>1/7/2015 13:19</td>\n",
       "      <td>1/9/2015 10:12</td>\n",
       "      <td>29</td>\n",
       "      <td>MFFIHYNXCJLEY</td>\n",
       "      <td>SEO</td>\n",
       "      <td>Chrome</td>\n",
       "      <td>M</td>\n",
       "      <td>34</td>\n",
       "      <td>2.083420e+09</td>\n",
       "      <td>0</td>\n",
       "    </tr>\n",
       "    <tr>\n",
       "      <th>108439</th>\n",
       "      <td>35978</td>\n",
       "      <td>2/8/2015 21:11</td>\n",
       "      <td>4/9/2015 14:26</td>\n",
       "      <td>26</td>\n",
       "      <td>WMSXWGVPNIFBM</td>\n",
       "      <td>Ads</td>\n",
       "      <td>FireFox</td>\n",
       "      <td>M</td>\n",
       "      <td>33</td>\n",
       "      <td>3.207913e+09</td>\n",
       "      <td>0</td>\n",
       "    </tr>\n",
       "  </tbody>\n",
       "</table>\n",
       "</div>"
      ],
      "text/plain": [
       "         Unnamed: 0      signup_time    purchase_time  purchase_value  \\\n",
       "user_id                                                                 \n",
       "285108       149671   7/15/2015 4:36  9/10/2015 14:17              31   \n",
       "131009        15611  1/24/2015 12:29   4/13/2015 4:53              31   \n",
       "328855        73178   3/11/2015 0:54   4/5/2015 12:23              16   \n",
       "229053        84546   1/7/2015 13:19   1/9/2015 10:12              29   \n",
       "108439        35978   2/8/2015 21:11   4/9/2015 14:26              26   \n",
       "\n",
       "             device_id  source  browser sex  age    ip_address  class  \n",
       "user_id                                                                \n",
       "285108   HZAKVUFTDOSFD  Direct   Chrome   M   49  2.818400e+09      0  \n",
       "131009   XGQAJSOUJIZCC     SEO       IE   F   21  3.251268e+09      0  \n",
       "328855   VCCTAYDCWKZIY  Direct       IE   M   26  2.727760e+09      0  \n",
       "229053   MFFIHYNXCJLEY     SEO   Chrome   M   34  2.083420e+09      0  \n",
       "108439   WMSXWGVPNIFBM     Ads  FireFox   M   33  3.207913e+09      0  "
      ]
     },
     "execution_count": 3,
     "metadata": {},
     "output_type": "execute_result"
    }
   ],
   "source": [
    "fraud_data=pd.read_csv(\"./Candidate_tech_evaluation_candidate_copy_data science_fraud.csv\", index_col=\"user_id\")\n",
    "fraud_data.head()"
   ]
  },
  {
   "cell_type": "code",
   "execution_count": 18,
   "metadata": {},
   "outputs": [
    {
     "data": {
      "text/plain": [
       "0    108735\n",
       "1     11265\n",
       "Name: class, dtype: int64"
      ]
     },
     "execution_count": 18,
     "metadata": {},
     "output_type": "execute_result"
    }
   ],
   "source": [
    "# get ratio about prediction target\n",
    "fraud_data[\"class\"].value_counts()"
   ]
  },
  {
   "cell_type": "markdown",
   "metadata": {},
   "source": [
    "## II. Feature Engineering\n",
    "### 1. Convert `ip_address` to `country`\n",
    "\n",
    "`ip_address` is unique for every device and could be different across different dataset. It is a feature that the machine learning algorithm is likely to overfit on, which means, the algorithm can only correctly label a purchase if the `ip_address` has occured in its training data before otherwise the algorithm can not make correct prediction. Therefore, the information learnt using `ip_address` is hard to generalize on test dataset. Transforming `ip_address` to country names overcome this drawback.\n"
   ]
  },
  {
   "cell_type": "code",
   "execution_count": 4,
   "metadata": {},
   "outputs": [],
   "source": [
    "# convert ip to country\n",
    "# TODO: this step took long, should be able to speed up\n",
    "def ip_to_country(ip):\n",
    "    match = (ip >= IpAddress_to_Country['lower_bound_ip_address']) & ( ip <= IpAddress_to_Country['upper_bound_ip_address'])\n",
    "    if match.any():\n",
    "        return IpAddress_to_Country['country'][match].to_string(index=False)\n",
    "    else:\n",
    "        return 'unknown'\n",
    "fraud_data['country'] = fraud_data['ip_address'].apply(lambda x: ip_to_country(x))\n",
    "# fraud_data.head()"
   ]
  },
  {
   "cell_type": "code",
   "execution_count": 13,
   "metadata": {},
   "outputs": [
    {
     "data": {
      "text/plain": [
       "count      177.000000\n",
       "mean       677.966102\n",
       "std       3802.744635\n",
       "min          1.000000\n",
       "25%          5.000000\n",
       "50%         23.000000\n",
       "75%        198.000000\n",
       "max      46184.000000\n",
       "Name: country, dtype: float64"
      ]
     },
     "execution_count": 13,
     "metadata": {},
     "output_type": "execute_result"
    }
   ],
   "source": [
    "# explore country\n",
    "country_count=fraud_data[\"country\"].value_counts()\n",
    "country_count.describe()"
   ]
  },
  {
   "cell_type": "code",
   "execution_count": 17,
   "metadata": {},
   "outputs": [
    {
     "data": {
      "text/plain": [
       "<matplotlib.axes._subplots.AxesSubplot at 0x1a1accbef0>"
      ]
     },
     "execution_count": 17,
     "metadata": {},
     "output_type": "execute_result"
    },
    {
     "data": {
      "image/png": "[encoded data removed]",
      "text/plain": [
       "<Figure size 432x288 with 1 Axes>"
      ]
     },
     "metadata": {
      "needs_background": "light"
     },
     "output_type": "display_data"
    }
   ],
   "source": [
    "# plot top 10 highest frequent countries\n",
    "country_count[0:10].plot(kind='bar')"
   ]
  },
  {
   "cell_type": "markdown",
   "metadata": {},
   "source": [
    "### 2. Transform `signup_time` and `purchase_time`.\n",
    "Similiar to `ip_address`,  `signup_time` and `purchase_time` are unique and can not be generalized to future data. Tansforming them to the time between sign-up and first purchase solves this issue. As shown in the box-plot below, transformed time can be a strong indicator for detecting fraud."
   ]
  },
  {
   "cell_type": "code",
   "execution_count": 5,
   "metadata": {},
   "outputs": [],
   "source": [
    "# signup_to_purchase in hours\n",
    "purchase_time = fraud_data['purchase_time'].apply(lambda x: datetime.datetime.strptime(x, '%m/%d/%Y %H:%M'))\n",
    "signup_time = fraud_data['signup_time'].apply(lambda x: datetime.datetime.strptime(x, '%m/%d/%Y %H:%M'))\n",
    "fraud_data['signup_to_purchase']= purchase_time - signup_time\n",
    "fraud_data['signup_to_purchase'] = fraud_data['signup_to_purchase'].apply(lambda x: x.total_seconds()/3600)\n",
    "# fraud_data.head()"
   ]
  },
  {
   "cell_type": "code",
   "execution_count": 7,
   "metadata": {},
   "outputs": [
    {
     "data": {
      "text/plain": [
       "<matplotlib.axes._subplots.AxesSubplot at 0x1a197f9c18>"
      ]
     },
     "execution_count": 7,
     "metadata": {},
     "output_type": "execute_result"
    },
    {
     "data": {
      "image/png": "[encoded data removed]",
      "text/plain": [
       "<Figure size 432x288 with 1 Axes>"
      ]
     },
     "metadata": {
      "needs_background": "light"
     },
     "output_type": "display_data"
    }
   ],
   "source": [
    "# plot time vs class\n",
    "fraud_long=pd.melt(fraud_data[['signup_to_purchase','class']], \"class\", var_name=\"Feature\", value_name=\"Hours\")\n",
    "sns.boxplot(x=\"Feature\", y=\"Hours\", hue=\"class\",data=fraud_long)"
   ]
  },
  {
   "cell_type": "markdown",
   "metadata": {},
   "source": [
    "### 3. Explore `device_id` \n",
    "Similiar to `ip_address`, `devive_id` is mostly unique and it will likely to cause overfitting. There is no good way to transform this feature therefore it is excluded from modeling. "
   ]
  },
  {
   "cell_type": "code",
   "execution_count": 8,
   "metadata": {},
   "outputs": [
    {
     "data": {
      "text/plain": [
       "count    110599.000000\n",
       "mean          1.085001\n",
       "std           0.703870\n",
       "min           1.000000\n",
       "25%           1.000000\n",
       "50%           1.000000\n",
       "75%           1.000000\n",
       "max          19.000000\n",
       "Name: device_id, dtype: float64"
      ]
     },
     "execution_count": 8,
     "metadata": {},
     "output_type": "execute_result"
    }
   ],
   "source": [
    "# explore device_id\n",
    "device_count=fraud_data[\"device_id\"].value_counts()\n",
    "device_count.describe()"
   ]
  },
  {
   "cell_type": "code",
   "execution_count": 9,
   "metadata": {},
   "outputs": [
    {
     "data": {
      "text/plain": [
       "<matplotlib.axes._subplots.AxesSubplot at 0x1a1c198160>"
      ]
     },
     "execution_count": 9,
     "metadata": {},
     "output_type": "execute_result"
    },
    {
     "data": {
      "image/png": "[encoded data removed]",
      "text/plain": [
       "<Figure size 432x288 with 1 Axes>"
      ]
     },
     "metadata": {
      "needs_background": "light"
     },
     "output_type": "display_data"
    }
   ],
   "source": [
    "# plot freq \n",
    "sns.distplot(sorted(device_count.values))"
   ]
  },
  {
   "cell_type": "markdown",
   "metadata": {},
   "source": [
    "### 4. Finalize Data Cleaning\n",
    "Un-used features are dropped and the cleaned data is wrote out for convenice."
   ]
  },
  {
   "cell_type": "code",
   "execution_count": 10,
   "metadata": {},
   "outputs": [
    {
     "data": {
      "text/plain": [
       "False"
      ]
     },
     "execution_count": 10,
     "metadata": {},
     "output_type": "execute_result"
    }
   ],
   "source": [
    "# check if any Nan/missing\n",
    "fraud_data.isnull().values.any()"
   ]
  },
  {
   "cell_type": "code",
   "execution_count": 11,
   "metadata": {},
   "outputs": [
    {
     "data": {
      "text/html": [
       "<div>\n",
       "<style scoped>\n",
       "    .dataframe tbody tr th:only-of-type {\n",
       "        vertical-align: middle;\n",
       "    }\n",
       "\n",
       "    .dataframe tbody tr th {\n",
       "        vertical-align: top;\n",
       "    }\n",
       "\n",
       "    .dataframe thead th {\n",
       "        text-align: right;\n",
       "    }\n",
       "</style>\n",
       "<table border=\"1\" class=\"dataframe\">\n",
       "  <thead>\n",
       "    <tr style=\"text-align: right;\">\n",
       "      <th></th>\n",
       "      <th>purchase_value</th>\n",
       "      <th>source</th>\n",
       "      <th>browser</th>\n",
       "      <th>sex</th>\n",
       "      <th>age</th>\n",
       "      <th>class</th>\n",
       "      <th>country</th>\n",
       "      <th>signup_to_purchase</th>\n",
       "    </tr>\n",
       "    <tr>\n",
       "      <th>user_id</th>\n",
       "      <th></th>\n",
       "      <th></th>\n",
       "      <th></th>\n",
       "      <th></th>\n",
       "      <th></th>\n",
       "      <th></th>\n",
       "      <th></th>\n",
       "      <th></th>\n",
       "    </tr>\n",
       "  </thead>\n",
       "  <tbody>\n",
       "    <tr>\n",
       "      <th>285108</th>\n",
       "      <td>31</td>\n",
       "      <td>Direct</td>\n",
       "      <td>Chrome</td>\n",
       "      <td>M</td>\n",
       "      <td>49</td>\n",
       "      <td>0</td>\n",
       "      <td>United States</td>\n",
       "      <td>1377.683333</td>\n",
       "    </tr>\n",
       "    <tr>\n",
       "      <th>131009</th>\n",
       "      <td>31</td>\n",
       "      <td>SEO</td>\n",
       "      <td>IE</td>\n",
       "      <td>F</td>\n",
       "      <td>21</td>\n",
       "      <td>0</td>\n",
       "      <td>United Kingdom</td>\n",
       "      <td>1888.400000</td>\n",
       "    </tr>\n",
       "    <tr>\n",
       "      <th>328855</th>\n",
       "      <td>16</td>\n",
       "      <td>Direct</td>\n",
       "      <td>IE</td>\n",
       "      <td>M</td>\n",
       "      <td>26</td>\n",
       "      <td>0</td>\n",
       "      <td>United States</td>\n",
       "      <td>611.483333</td>\n",
       "    </tr>\n",
       "    <tr>\n",
       "      <th>229053</th>\n",
       "      <td>29</td>\n",
       "      <td>SEO</td>\n",
       "      <td>Chrome</td>\n",
       "      <td>M</td>\n",
       "      <td>34</td>\n",
       "      <td>0</td>\n",
       "      <td>Korea Republic of</td>\n",
       "      <td>44.883333</td>\n",
       "    </tr>\n",
       "    <tr>\n",
       "      <th>108439</th>\n",
       "      <td>26</td>\n",
       "      <td>Ads</td>\n",
       "      <td>FireFox</td>\n",
       "      <td>M</td>\n",
       "      <td>33</td>\n",
       "      <td>0</td>\n",
       "      <td>Brazil</td>\n",
       "      <td>1433.250000</td>\n",
       "    </tr>\n",
       "  </tbody>\n",
       "</table>\n",
       "</div>"
      ],
      "text/plain": [
       "         purchase_value  source  browser sex  age  class             country  \\\n",
       "user_id                                                                        \n",
       "285108               31  Direct   Chrome   M   49      0       United States   \n",
       "131009               31     SEO       IE   F   21      0      United Kingdom   \n",
       "328855               16  Direct       IE   M   26      0       United States   \n",
       "229053               29     SEO   Chrome   M   34      0   Korea Republic of   \n",
       "108439               26     Ads  FireFox   M   33      0              Brazil   \n",
       "\n",
       "         signup_to_purchase  \n",
       "user_id                      \n",
       "285108          1377.683333  \n",
       "131009          1888.400000  \n",
       "328855           611.483333  \n",
       "229053            44.883333  \n",
       "108439          1433.250000  "
      ]
     },
     "execution_count": 11,
     "metadata": {},
     "output_type": "execute_result"
    }
   ],
   "source": [
    "# clean up \n",
    "fraud_data.drop(['Unnamed: 0','device_id', 'signup_time', 'purchase_time', 'ip_address'], axis=1, inplace=True)\n",
    "fraud_data.head()"
   ]
  },
  {
   "cell_type": "code",
   "execution_count": 12,
   "metadata": {},
   "outputs": [],
   "source": [
    "# wirte intermediate data out for convenice \n",
    "fraud_data.to_csv(r'./fraud_data_cleaned.csv')"
   ]
  },
  {
   "cell_type": "markdown",
   "metadata": {},
   "source": [
    "## III. Modeling\n",
    "Three classifers are tested: Random Forest, Logistic Regression, and Gradient Boost.\n",
    "Metrics used for evaluating the models include:\n",
    "- Accuracy: proportion of true results, range from +1 to 0 (+1 being the best and 0 being the worst).\n",
    "- Precision: positive predictive value, range from +1 to 0 (+1 being the best and 0 being the worst).\n",
    "- Recall: true positive rate, range from +1 to 0 (+1 being the best and 0 being the worst).\n",
    "- F1 score: harmonic mean of precision and recall, range from +1 to 0 (+1 being the best and 0 being the worst). Either false positive or false negative could hurt Electronica so F1 score should be considered instead of just Precision or just Recall. \n",
    "- Matthews correlation coefficient(MCC): quality of binary (two-class) classifications, range from +1 to -1 (+1 being the best and -1 being the worst).\n",
    "- Cohen's Kappa: like classification accuracy, except that it is normalized at the baseline of random chance, range from +1 to -1 (+1 being the best and -1 being the worst).\n",
    "\n"
   ]
  },
  {
   "cell_type": "code",
   "execution_count": 24,
   "metadata": {},
   "outputs": [],
   "source": [
    "def predict_metrics(y_truth, y_pred):\n",
    "    print(\"Accuracy:\",metrics.accuracy_score(y_truth, y_pred))\n",
    "    print(\"Precision:\",metrics.precision_score(y_truth, y_pred))\n",
    "    print(\"Recall:\",metrics.recall_score(y_truth, y_pred))\n",
    "    print(\"F1 score:\",metrics.f1_score(y_truth,y_pred))\n",
    "    print(\"MCC score:\",metrics.matthews_corrcoef(y_truth,y_pred))\n",
    "    print(\"Cohen's kappa:\",metrics.cohen_kappa_score(y_truth,y_pred))"
   ]
  },
  {
   "cell_type": "code",
   "execution_count": 3,
   "metadata": {},
   "outputs": [],
   "source": [
    "# reload data if needed\n",
    "fraud_data=pd.read_csv(\"./fraud_data_cleaned.csv\", index_col=\"user_id\")"
   ]
  },
  {
   "cell_type": "code",
   "execution_count": 19,
   "metadata": {},
   "outputs": [],
   "source": [
    "# split X Y\n",
    "Y = fraud_data['class']\n",
    "X = fraud_data.drop('class',axis=1)\n",
    "# dummify string features\n",
    "X_new = pd.get_dummies(X, columns=['source','browser','sex','country'])\n",
    "x_train, x_test, y_train, y_test = train_test_split(X_new, Y, test_size=0.2)"
   ]
  },
  {
   "cell_type": "markdown",
   "metadata": {},
   "source": [
    "### Random Forest\n",
    "Random Forest is one of the most accurate learning algorithms available and runs efficiently on large databases. Moreover, random forest gives estimates of what variables are important in the classification.\n",
    "I tried Random Forest Classifier (20 trees with boostrap) and used `'balanced_subsample'` to determine class weight since the data is highly unbalanced. I used RandomizedSearchCV to found out the best parameters."
   ]
  },
  {
   "cell_type": "code",
   "execution_count": 14,
   "metadata": {},
   "outputs": [
    {
     "name": "stdout",
     "output_type": "stream",
     "text": [
      "RandomizedSearchCV took 325.45 seconds for 20 candidates parameter settings.\n",
      "Model with rank: 1\n",
      "Mean validation score: 0.957 (std: 0.001)\n",
      "Parameters: {'min_samples_split': 10, 'max_features': 101, 'max_depth': 5, 'criterion': 'entropy'}\n",
      "\n",
      "Model with rank: 2\n",
      "Mean validation score: 0.957 (std: 0.001)\n",
      "Parameters: {'min_samples_split': 10, 'max_features': 61, 'max_depth': 5, 'criterion': 'gini'}\n",
      "\n",
      "Model with rank: 3\n",
      "Mean validation score: 0.956 (std: 0.001)\n",
      "Parameters: {'min_samples_split': 2, 'max_features': 41, 'max_depth': 20, 'criterion': 'entropy'}\n",
      "\n"
     ]
    }
   ],
   "source": [
    "rf = RandomForestClassifier(n_estimators=20,n_jobs=-1,class_weight='balanced_subsample')\n",
    "# Utility function to report best scores\n",
    "def report(results, n_top=3):\n",
    "    for i in range(1, n_top + 1):\n",
    "        candidates = np.flatnonzero(results['rank_test_score'] == i)\n",
    "        for candidate in candidates:\n",
    "            print(\"Model with rank: {0}\".format(i))\n",
    "            print(\"Mean validation score: {0:.3f} (std: {1:.3f})\".format(\n",
    "                  results['mean_test_score'][candidate],\n",
    "                  results['std_test_score'][candidate]))\n",
    "            print(\"Parameters: {0}\".format(results['params'][candidate]))\n",
    "            print(\"\")\n",
    "\n",
    "\n",
    "# specify parameters and distributions to sample from\n",
    "param_dist = {\"max_features\": range(1,190,20),\n",
    "              \"min_samples_split\": range(2, 11,2),\n",
    "              \"criterion\": [\"gini\", \"entropy\"],\n",
    "             \"max_depth\":[5,20,50,None]}\n",
    "\n",
    "# run randomized search\n",
    "n_iter_search = 20\n",
    "random_search = RandomizedSearchCV(rf, param_distributions=param_dist,\n",
    "                                   n_iter=n_iter_search, cv=5, iid=False)\n",
    "\n",
    "start = time()\n",
    "random_search.fit(x_train,y_train)\n",
    "print(\"RandomizedSearchCV took %.2f seconds for %d candidates\"\n",
    "      \" parameter settings.\" % ((time() - start), n_iter_search))\n",
    "report(random_search.cv_results_)"
   ]
  },
  {
   "cell_type": "code",
   "execution_count": 22,
   "metadata": {},
   "outputs": [
    {
     "data": {
      "text/plain": [
       "RandomForestClassifier(bootstrap=True, class_weight='balanced_subsample',\n",
       "            criterion='entropy', max_depth=5, max_features=101,\n",
       "            max_leaf_nodes=None, min_impurity_decrease=0.0,\n",
       "            min_impurity_split=None, min_samples_leaf=1,\n",
       "            min_samples_split=10, min_weight_fraction_leaf=0.0,\n",
       "            n_estimators=20, n_jobs=None, oob_score=False,\n",
       "            random_state=None, verbose=0, warm_start=False)"
      ]
     },
     "execution_count": 22,
     "metadata": {},
     "output_type": "execute_result"
    }
   ],
   "source": [
    "# train tree with best par\n",
    "rf_tuned=RandomForestClassifier(n_estimators=20, class_weight='balanced_subsample',min_samples_split= 10, max_features= 101, max_depth= 5, criterion='entropy')\n",
    "rf_tuned.fit(x_train,y_train)"
   ]
  },
  {
   "cell_type": "code",
   "execution_count": 33,
   "metadata": {},
   "outputs": [
    {
     "name": "stdout",
     "output_type": "stream",
     "text": [
      "In-sample:\n",
      "Accuracy: 0.9566041666666667\n",
      "Precision: 0.9997915798249271\n",
      "Recall: 0.5352599866101316\n",
      "F1 score: 0.6972383720930233\n",
      "MCC score: 0.7146280769260164\n",
      "Cohen's kappa: 0.6761548631952846\n",
      "--------------------\n",
      "Out-of-sample:\n",
      "Accuracy: 0.9550416666666667\n",
      "Precision: 1.0\n",
      "Recall: 0.531480677377334\n",
      "F1 score: 0.6940742840941311\n",
      "MCC score: 0.7115490732501404\n",
      "Cohen's kappa: 0.6722450817017983\n"
     ]
    }
   ],
   "source": [
    "## prediction on training data\n",
    "print(\"In-sample:\")\n",
    "y_train_pred=rf_tuned.predict(x_train)\n",
    "predict_metrics(y_train, y_train_pred)\n",
    "\n",
    "print(\"-\"*20)\n",
    "print(\"Out-of-sample:\")\n",
    "# test model\n",
    "y_pred=rf_tuned.predict(x_test)\n",
    "predict_metrics(y_test, y_pred)\n"
   ]
  },
  {
   "cell_type": "code",
   "execution_count": 25,
   "metadata": {},
   "outputs": [
    {
     "data": {
      "image/png": "[encoded data removed]",
      "text/plain": [
       "<Figure size 432x288 with 1 Axes>"
      ]
     },
     "metadata": {
      "needs_background": "light"
     },
     "output_type": "display_data"
    }
   ],
   "source": [
    "# get feature importance\n",
    "feature_imp = pd.Series(rf_tuned.feature_importances_,index=X_new.columns).sort_values(ascending=False)\n",
    " \n",
    "# plot most important feautures\n",
    "sns.barplot(x=feature_imp[0:10], y=feature_imp.index[0:10])\n",
    "plt.xlabel('Feature Importance Score')\n",
    "plt.ylabel('Features')\n",
    "plt.title(\"Top 10 Most Important Features\")\n",
    "plt.show()"
   ]
  },
  {
   "cell_type": "markdown",
   "metadata": {},
   "source": [
    "### Logistic Regression\n",
    "Logistic Regression is easy to implement and very efficient in training.\n",
    "Unfortunately, Logistic regression performed poorly on our dataset compare to Random Forester even though it was faster. I will not consider using this model."
   ]
  },
  {
   "cell_type": "code",
   "execution_count": 26,
   "metadata": {},
   "outputs": [
    {
     "name": "stderr",
     "output_type": "stream",
     "text": [
      "/anaconda3/lib/python3.7/site-packages/sklearn/linear_model/logistic.py:433: FutureWarning: Default solver will be changed to 'lbfgs' in 0.22. Specify a solver to silence this warning.\n",
      "  FutureWarning)\n"
     ]
    },
    {
     "data": {
      "text/plain": [
       "0.9387636184692383"
      ]
     },
     "execution_count": 26,
     "metadata": {},
     "output_type": "execute_result"
    }
   ],
   "source": [
    "start = time()\n",
    "lg = LogisticRegression(random_state=0,class_weight='balanced').fit(x_train,y_train)\n",
    "(time() - start) # training time"
   ]
  },
  {
   "cell_type": "code",
   "execution_count": 27,
   "metadata": {},
   "outputs": [
    {
     "name": "stdout",
     "output_type": "stream",
     "text": [
      "In-sample:\n",
      "Accuracy: 0.6547083333333333\n",
      "Precision: 0.17122505573378283\n",
      "Recall: 0.7027449230082571\n",
      "F1 score: 0.2753585169639734\n",
      "MCC score: 0.2109503484447888\n",
      "Cohen's kappa: 0.147351097839586\n",
      "--------------------\n",
      "Out-of-sample:\n",
      "Accuracy: 0.64925\n",
      "Precision: 0.17120120443058393\n",
      "Recall: 0.691272253582284\n",
      "F1 score: 0.27443544216514393\n",
      "MCC score: 0.20317696664558021\n",
      "Cohen's kappa: 0.14253994258796632\n"
     ]
    }
   ],
   "source": [
    "## prediction on training data\n",
    "print(\"In-sample:\")\n",
    "y_train_pred=lg.predict(x_train)\n",
    "predict_metrics(y_train, y_train_pred)\n",
    "\n",
    "print(\"-\"*20)\n",
    "print(\"Out-of-sample:\")\n",
    "# test model\n",
    "y_pred=lg.predict(x_test)\n",
    "predict_metrics(y_test, y_pred)"
   ]
  },
  {
   "cell_type": "markdown",
   "metadata": {},
   "source": [
    "### Gradient Boost\n",
    "Gradient Boost is similiar to Random Forest other than it builds trees one at a time, where each new tree helps to correct errors made by previously trained tree. With each tree added, the model becomes even more expressive. Grandient boost is more accurate then Random Forester but takes longer to train. "
   ]
  },
  {
   "cell_type": "code",
   "execution_count": 22,
   "metadata": {},
   "outputs": [
    {
     "data": {
      "text/plain": [
       "XGBClassifier(base_score=0.5, booster='gbtree', colsample_bylevel=1,\n",
       "       colsample_bynode=1, colsample_bytree=1, gamma=0, learning_rate=0.1,\n",
       "       max_delta_step=0, max_depth=3, min_child_weight=1, missing=None,\n",
       "       n_estimators=100, n_jobs=1, nthread=None,\n",
       "       objective='binary:logistic', random_state=0, reg_alpha=0,\n",
       "       reg_lambda=1, scale_pos_weight=1, seed=None, silent=None,\n",
       "       subsample=1, verbosity=1)"
      ]
     },
     "execution_count": 22,
     "metadata": {},
     "output_type": "execute_result"
    }
   ],
   "source": [
    "# train\n",
    "gb = xgb.XGBClassifier()\n",
    "gb.fit(x_train, y_train)"
   ]
  },
  {
   "cell_type": "code",
   "execution_count": 25,
   "metadata": {},
   "outputs": [
    {
     "name": "stdout",
     "output_type": "stream",
     "text": [
      "In-sample:\n",
      "Accuracy: 0.9564166666666667\n",
      "Precision: 1.0\n",
      "Recall: 0.5350594510501167\n",
      "F1 score: 0.6971188649196467\n",
      "MCC score: 0.7144986965371637\n",
      "Cohen's kappa: 0.6759424729151122\n",
      "--------------------\n",
      "Out-of-sample:\n",
      "Accuracy: 0.9558333333333333\n",
      "Precision: 1.0\n",
      "Recall: 0.5322153574580759\n",
      "F1 score: 0.6947004608294931\n",
      "MCC score: 0.7123661269118118\n",
      "Cohen's kappa: 0.6732698017764875\n"
     ]
    }
   ],
   "source": [
    "## prediction on training data\n",
    "print(\"In-sample:\")\n",
    "y_train_pred=gb.predict(x_train)\n",
    "predict_metrics(y_train, y_train_pred)\n",
    "\n",
    "print(\"-\"*20)\n",
    "print(\"Out-of-sample:\")\n",
    "# test model\n",
    "y_pred=gb.predict(x_test)\n",
    "predict_metrics(y_test, y_pred)"
   ]
  },
  {
   "cell_type": "code",
   "execution_count": 73,
   "metadata": {},
   "outputs": [
    {
     "data": {
      "image/png": "[encoded data removed]",
      "text/plain": [
       "<Figure size 360x720 with 1 Axes>"
      ]
     },
     "metadata": {
      "needs_background": "light"
     },
     "output_type": "display_data"
    }
   ],
   "source": [
    "# feature importance\n",
    "plt.rcParams[\"figure.figsize\"] = (5, 10)\n",
    "xgb.plot_importance(gb)\n",
    "plt.show()"
   ]
  },
  {
   "cell_type": "markdown",
   "metadata": {},
   "source": [
    "# Model MVP: Gradient Boost\n",
    "Gradient Boost and Random Forest have better performance than Logistic Regression and the scoring of out-of-sample(20%) prediction are shown in the table below. \n",
    "Gradient Boost achieved slightly better perforamce as Random Forest did without the computational expensive tuning. Tuning of Gradient Boost, however, took too long on my personal computer, it can be performed on more powerful computers/computer clusters if we want to further imporve the model."
   ]
  },
  {
   "cell_type": "markdown",
   "metadata": {},
   "source": [
    "|Metrice | Logistic Regression | Random Forester | Gradient Boost |\n",
    "|---|----|----|----|\n",
    "| Accuracy | 0.6493 | 0.9550 | 0.9558 |\n",
    "| Precision | 0.1712 | 1.0 | 1.0 |\n",
    "| Recall | 0.6913 | 0.5315 | 0.5322 |\n",
    "| F1 score | 0.2744 | 0.6941 | 0.6947 |\n",
    "| MCC score | 0.2032| 0.7115 | 0.7124 |\n",
    "| Cohen's kappa | 0.1425 | 0.6722 | 0.6732 |"
   ]
  },
  {
   "attachments": {},
   "cell_type": "markdown",
   "metadata": {},
   "source": [
    "### Future Work\n",
    "- The features can be further engineered, for example:\n",
    "    1. `ip_address` can be mapped to states to get more detailed geographic information if the data is availble, especially for the United States because of its highest frequency in the dataset.\n",
    "    2. `signup_time` and `purchase_time` can be transformed into local time based on user's location and it might be informative because Electronica does wholesale electronics and that usually happens during busniess hours in common sense.\n",
    "- Tuning of Gradient Boost can be performed to find out the optimal parameters for the model."
   ]
  },
  {
   "cell_type": "code",
   "execution_count": null,
   "metadata": {},
   "outputs": [],
   "source": []
  }
 ],
 "metadata": {
  "kernelspec": {
   "display_name": "Python 3",
   "language": "python",
   "name": "python3"
  },
  "language_info": {
   "codemirror_mode": {
    "name": "ipython",
    "version": 3
   },
   "file_extension": ".py",
   "mimetype": "text/x-python",
   "name": "python",
   "nbconvert_exporter": "python",
   "pygments_lexer": "ipython3",
   "version": "3.7.2"
  }
 },
 "nbformat": 4,
 "nbformat_minor": 2
}
